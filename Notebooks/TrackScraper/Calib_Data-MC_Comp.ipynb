{
 "cells": [
  {
   "cell_type": "code",
   "execution_count": null,
   "id": "0",
   "metadata": {},
   "outputs": [],
   "source": [
    "import ROOT\n",
    "import numpy as np\n",
    "import pandas as pd\n",
    "import matplotlib.pyplot as plt\n",
    "from matplotlib.colors import LogNorm\n",
    "import matplotlib.gridspec as gridspec\n",
    "import math\n",
    "import uproot\n",
    "from array import array"
   ]
  },
  {
   "cell_type": "code",
   "execution_count": null,
   "id": "1",
   "metadata": {},
   "outputs": [],
   "source": [
    "# Most Stats Available\n",
    "data_f = \"/Users/alexanderantonakis/Software/SBNDWireModAna/Data/wire_tracks_data_1k.root\"\n",
    "mc_f = \"/Users/alexanderantonakis/Software/SBNDWireModAna/Data/wire_tracks_mc_1k.root\"\n",
    "c_f = \"/Users/alexanderantonakis/Software/SBNDWireModAna/Data/wire_tracks_corsika_shw20m_b2.root\"\n",
    "\n",
    "print(\"Got MC and Data Files to compare and analyze\")"
   ]
  },
  {
   "cell_type": "markdown",
   "id": "2",
   "metadata": {},
   "source": [
    "# Load the Track DFs"
   ]
  },
  {
   "cell_type": "code",
   "execution_count": null,
   "id": "3",
   "metadata": {},
   "outputs": [],
   "source": [
    "inFileMC = uproot.open(mc_f)\n",
    "mc_trk_tree = inFileMC[\"track_tree\"]\n",
    "mc_df = mc_trk_tree.arrays(mc_trk_tree.keys(), library=\"pd\")\n",
    "mc_df[:2]"
   ]
  },
  {
   "cell_type": "code",
   "execution_count": null,
   "id": "4",
   "metadata": {},
   "outputs": [],
   "source": [
    "inFileC = uproot.open(c_f)\n",
    "c_trk_tree = inFileC[\"track_tree\"]\n",
    "c_df = c_trk_tree.arrays(c_trk_tree.keys(), library=\"pd\")\n",
    "c_df[:2]"
   ]
  },
  {
   "cell_type": "code",
   "execution_count": null,
   "id": "5",
   "metadata": {},
   "outputs": [],
   "source": [
    "inFileData = uproot.open(data_f)\n",
    "data_trk_tree = inFileData[\"track_tree\"]\n",
    "data_df = data_trk_tree.arrays(data_trk_tree.keys(), library=\"pd\")\n",
    "data_df[:2]"
   ]
  },
  {
   "cell_type": "markdown",
   "id": "6",
   "metadata": {},
   "source": [
    "# Helper Functions"
   ]
  },
  {
   "cell_type": "code",
   "execution_count": null,
   "id": "7",
   "metadata": {},
   "outputs": [],
   "source": [
    "def plot_1D_error(df, var, B, S, label=None, color=None, linestyle='-', linewidth=2, density=True, event_norm=False):\n",
    "    \"\"\"\n",
    "    Plot a 1D histogram with error bands.\n",
    "    \n",
    "    Parameters:\n",
    "    - df: DataFrame containing the data.\n",
    "    - var: Column name to plot.\n",
    "    - B: Bin edges for the histogram.\n",
    "    - S: Selection condition for filtering the DataFrame.\n",
    "    - label: Label for the histogram.\n",
    "    - color: Color of the histogram.\n",
    "    - linestyle: Line style for the histogram.\n",
    "    - linewidth: Width of the line.\n",
    "    - density: Whether to normalize the histogram.\n",
    "    \"\"\"\n",
    "\n",
    "    counts, bin_edges, errors = 0, 0, 0\n",
    "    if density:\n",
    "        # Get histogram data without plotting\n",
    "        counts, bin_edges = np.histogram(df.query(S)[var].values, bins=B)\n",
    "        errors = np.sqrt(counts)/ np.sum(counts)  # Poisson error\n",
    "        counts = counts / np.sum(counts)\n",
    "       \n",
    "\n",
    "    elif event_norm:\n",
    "        # Get histogram data without plotting, normalized by number of events\n",
    "        counts, bin_edges = np.histogram(df.query(S)[var].values, bins=B)\n",
    "        temp_df = df.query(S)\n",
    "        unique_count = temp_df.drop_duplicates(subset=[\"run\", \"subrun\", \"evt\"]).shape[0]\n",
    "        errors = np.sqrt(counts) / unique_count\n",
    "        counts = counts / unique_count\n",
    "    else:\n",
    "        counts, bin_edges = np.histogram(df.query(S)[var].values, bins=B)\n",
    "        errors = np.sqrt(counts)\n",
    "\n",
    "\n",
    "    # Bin centers for plotting\n",
    "    bin_centers = 0.5 * (bin_edges[:-1] + bin_edges[1:])\n",
    "\n",
    "    # Plot the histogram as a step line\n",
    "    plt.step(bin_centers, counts, where='mid', color=color, label=label)\n",
    "\n",
    "    # Plot shaded error band\n",
    "    plt.fill_between(bin_centers, counts - errors, counts + errors,\n",
    "                 color=color, alpha=0.3, step='mid')\n",
    "\n",
    "  \n",
    "print(\"made 1D plotting function\")\n"
   ]
  },
  {
   "cell_type": "markdown",
   "id": "8",
   "metadata": {},
   "source": [
    "# Track Directions"
   ]
  },
  {
   "cell_type": "code",
   "execution_count": null,
   "id": "9",
   "metadata": {},
   "outputs": [],
   "source": [
    "DATA_LABEL = \"Data\"\n",
    "MC_LABEL = \"MC\"\n",
    "\n",
    "DATA_COLOR = \"blue\"\n",
    "MC_COLOR = \"orange\"\n",
    "\n",
    "print(\"Made Labels and Colors\")"
   ]
  },
  {
   "cell_type": "code",
   "execution_count": null,
   "id": "10",
   "metadata": {},
   "outputs": [],
   "source": [
    "S = \"sel > 0\"\n",
    "wx = 4\n",
    "wy = 4\n",
    "Bx = np.arange(-200, 200+wx, wx)\n",
    "By = np.arange(-200, 200+wy, wy)\n",
    "\n",
    "\n",
    "plt.hist2d(data_df.query(S)['sx'].values, data_df.query(S)['sy'].values, bins=(Bx, By), \n",
    "           density=True, norm=LogNorm(), cmap='viridis')\n",
    "\n",
    "plt.colorbar(label='Normalized')\n",
    "plt.xlabel('Track Start X [cm]', fontsize=20)\n",
    "plt.ylabel('Track Start Y [cm]', fontsize=20)\n",
    "plt.title('Data: Selection >= 1', fontsize=20)\n",
    "plt.grid()\n",
    "plt.show() "
   ]
  },
  {
   "cell_type": "code",
   "execution_count": null,
   "id": "11",
   "metadata": {},
   "outputs": [],
   "source": [
    "S = \"sel > 0\"\n",
    "wx = 4\n",
    "wy = 4\n",
    "Bx = np.arange(-200, 200+wx, wx)\n",
    "By = np.arange(-200, 200+wy, wy)\n",
    "\n",
    "\n",
    "plt.hist2d(mc_df.query(S)['sx'].values, mc_df.query(S)['sy'].values, bins=(Bx, By), \n",
    "           density=True, norm=LogNorm(), cmap='viridis')\n",
    "\n",
    "plt.colorbar(label='Normalized')\n",
    "plt.xlabel('Track Start X [cm]', fontsize=20)\n",
    "plt.ylabel('Track Start Y [cm]', fontsize=20)\n",
    "plt.title('MC: Selection >= 1', fontsize=20)\n",
    "plt.grid()\n",
    "plt.show() "
   ]
  },
  {
   "cell_type": "code",
   "execution_count": null,
   "id": "12",
   "metadata": {},
   "outputs": [],
   "source": [
    "S = \"sel >= 1 and rr > 60\"\n",
    "bin_w = 10\n",
    "B = np.arange(-200, 200+bin_w, bin_w)\n",
    "plot_1D_error(data_df, \"sx\", B, S, label=DATA_LABEL, color=DATA_COLOR)\n",
    "plot_1D_error(mc_df, \"sx\", B, S, label=MC_LABEL, color=MC_COLOR)\n",
    "plt.xlabel('Track Start X [cm]', fontsize=20)\n",
    "plt.ylabel('Area Normalized', fontsize=20)\n",
    "plt.title('Selection >= 1', fontsize=20)\n",
    "plt.legend(fontsize=20)\n",
    "plt.grid()\n",
    "plt.show()"
   ]
  },
  {
   "cell_type": "code",
   "execution_count": null,
   "id": "13",
   "metadata": {},
   "outputs": [],
   "source": [
    "S = \"sel >= 1 and rr > 60\"\n",
    "bin_w = 10\n",
    "B = np.arange(-200, 200+bin_w, bin_w)\n",
    "plot_1D_error(data_df, \"sy\", B, S, label=DATA_LABEL, color=DATA_COLOR)\n",
    "plot_1D_error(mc_df, \"sy\", B, S, label=MC_LABEL, color=MC_COLOR)\n",
    "plt.xlabel('Track Start Y [cm]', fontsize=20)\n",
    "plt.ylabel('Area Normalized', fontsize=20)\n",
    "plt.title('Selection >= 1', fontsize=20)\n",
    "plt.legend(fontsize=20)\n",
    "plt.grid()\n",
    "plt.show()"
   ]
  },
  {
   "cell_type": "code",
   "execution_count": null,
   "id": "14",
   "metadata": {},
   "outputs": [],
   "source": [
    "S = \"sel >= 1 and rr > 60\"\n",
    "bin_w = 10\n",
    "B = np.arange(0, 500+bin_w, bin_w)\n",
    "plot_1D_error(data_df, \"sz\", B, S, label=DATA_LABEL, color=DATA_COLOR)\n",
    "plot_1D_error(mc_df, \"sz\", B, S, label=MC_LABEL, color=MC_COLOR)\n",
    "plt.xlabel('Track Start Z [cm]', fontsize=20)\n",
    "plt.ylabel('Area Normalized', fontsize=20)\n",
    "plt.title('Selection >= 1', fontsize=20)\n",
    "plt.legend(fontsize=20)\n",
    "plt.grid()\n",
    "plt.show()"
   ]
  },
  {
   "cell_type": "code",
   "execution_count": null,
   "id": "15",
   "metadata": {},
   "outputs": [],
   "source": [
    "S = \"sel >= 0\"\n",
    "bin_w = 0.1\n",
    "B = np.arange(-1, 1+bin_w, bin_w)\n",
    "plot_1D_error(data_df, \"dirz\", B, S, label=DATA_LABEL, color=DATA_COLOR)\n",
    "plot_1D_error(mc_df, \"dirz\", B, S, label=MC_LABEL, color=MC_COLOR)\n",
    "plt.xlabel('Track Z-Direction', fontsize=20)\n",
    "plt.ylabel('Area Normalized', fontsize=20)\n",
    "plt.title('Full Sample: Selection >= 0', fontsize=20)\n",
    "plt.legend(fontsize=20)\n",
    "plt.grid()\n",
    "plt.show()"
   ]
  },
  {
   "cell_type": "code",
   "execution_count": null,
   "id": "16",
   "metadata": {},
   "outputs": [],
   "source": [
    "S = \"sel == 0\"\n",
    "bin_w = 0.1\n",
    "B = np.arange(-1, 1+bin_w, bin_w)\n",
    "plot_1D_error(data_df, \"dirz\", B, S, label=DATA_LABEL, color=DATA_COLOR)\n",
    "plot_1D_error(mc_df, \"dirz\", B, S, label=MC_LABEL, color=MC_COLOR)\n",
    "plt.xlabel('Track Z-Direction', fontsize=20)\n",
    "plt.ylabel('Area Normalized', fontsize=20)\n",
    "plt.title('Stopping Muon Sample: Selection = 0', fontsize=20)\n",
    "plt.legend(loc='upper center', fontsize=20)\n",
    "plt.grid()\n",
    "plt.show()"
   ]
  },
  {
   "cell_type": "code",
   "execution_count": null,
   "id": "17",
   "metadata": {},
   "outputs": [],
   "source": [
    "S = \"sel == 1\"\n",
    "bin_w = 0.1\n",
    "B = np.arange(-1, 1+bin_w, bin_w)\n",
    "plot_1D_error(data_df, \"dirz\", B, S, label=DATA_LABEL, color=DATA_COLOR)\n",
    "plot_1D_error(mc_df, \"dirz\", B, S, label=MC_LABEL, color=MC_COLOR)\n",
    "plt.xlabel('Track Z-Direction', fontsize=20)\n",
    "plt.ylabel('Area Normalized', fontsize=20)\n",
    "plt.title('Anode-Cathode Crossers: Selection = 1', fontsize=20)\n",
    "plt.legend(loc='lower center', fontsize=20)\n",
    "plt.grid()\n",
    "plt.show()"
   ]
  },
  {
   "cell_type": "code",
   "execution_count": null,
   "id": "18",
   "metadata": {},
   "outputs": [],
   "source": [
    "S = \"sel == 2\"\n",
    "bin_w = 0.1\n",
    "B = np.arange(-1, 1+bin_w, bin_w)\n",
    "plot_1D_error(data_df, \"dirz\", B, S, label=DATA_LABEL, color=DATA_COLOR)\n",
    "plot_1D_error(mc_df, \"dirz\", B, S, label=MC_LABEL, color=MC_COLOR)\n",
    "plt.xlabel('Track Z-Direction', fontsize=20)\n",
    "plt.ylabel('Area Normalized', fontsize=20)\n",
    "plt.title('Other Cathode Crossers: Selection = 2', fontsize=20)\n",
    "plt.legend(loc='lower center', fontsize=20)\n",
    "plt.grid()\n",
    "plt.show()"
   ]
  },
  {
   "cell_type": "code",
   "execution_count": null,
   "id": "19",
   "metadata": {},
   "outputs": [],
   "source": [
    "S = \"sel == 0\"\n",
    "bin_w = 0.1\n",
    "B = np.arange(-1, 1+bin_w, bin_w)\n",
    "plot_1D_error(data_df, \"dirz\", B, S, label=DATA_LABEL, color=DATA_COLOR, event_norm=True, density=False)\n",
    "plot_1D_error(mc_df, \"dirz\", B, S, label=MC_LABEL, color=MC_COLOR, event_norm=True, density=False)\n",
    "plt.xlabel('Track Z-Direction', fontsize=20)\n",
    "plt.ylabel('Counts/Trigger', fontsize=20)\n",
    "plt.title('Stopping Muon Sample: Selection = 0', fontsize=20)\n",
    "plt.legend(loc='upper center', fontsize=20)\n",
    "plt.grid()\n",
    "plt.show()"
   ]
  },
  {
   "cell_type": "code",
   "execution_count": null,
   "id": "20",
   "metadata": {},
   "outputs": [],
   "source": [
    "S = \"sel == 1\"\n",
    "bin_w = 0.1\n",
    "B = np.arange(-1, 1+bin_w, bin_w)\n",
    "plot_1D_error(data_df, \"dirz\", B, S, label=DATA_LABEL, color=DATA_COLOR, density=False, event_norm=True)\n",
    "plot_1D_error(mc_df, \"dirz\", B, S, label=MC_LABEL, color=MC_COLOR, density=False, event_norm=True)\n",
    "plt.xlabel('Track Z-Direction', fontsize=20)\n",
    "plt.ylabel('Counts/Trigger', fontsize=20)\n",
    "plt.title('Anode-Cathode Crossers: Selection = 1', fontsize=20)\n",
    "plt.legend(loc='lower center', fontsize=20)\n",
    "plt.grid()\n",
    "plt.show()"
   ]
  },
  {
   "cell_type": "code",
   "execution_count": null,
   "id": "21",
   "metadata": {},
   "outputs": [],
   "source": [
    "S = \"sel == 2\"\n",
    "bin_w = 0.1\n",
    "B = np.arange(-1, 1+bin_w, bin_w)\n",
    "plot_1D_error(data_df, \"dirz\", B, S, label=DATA_LABEL, color=DATA_COLOR, density=False, event_norm=True)\n",
    "plot_1D_error(mc_df, \"dirz\", B, S, label=MC_LABEL, color=MC_COLOR, density=False, event_norm=True)\n",
    "plt.xlabel('Track Z-Direction', fontsize=20)\n",
    "plt.ylabel('Counts/Trigger', fontsize=20)\n",
    "plt.title('Other Cathode Crossers: Selection = 2', fontsize=20)\n",
    "plt.legend(loc='lower center', fontsize=20)\n",
    "plt.grid()\n",
    "plt.show()"
   ]
  },
  {
   "cell_type": "code",
   "execution_count": null,
   "id": "22",
   "metadata": {},
   "outputs": [],
   "source": [
    "S = \"sel >= 0\"\n",
    "bin_w = 0.1\n",
    "B = np.arange(-1, 1+bin_w, bin_w)\n",
    "plot_1D_error(data_df, \"dirz\", B, S, label=DATA_LABEL, color=DATA_COLOR, event_norm=True, density=False)\n",
    "plot_1D_error(mc_df, \"dirz\", B, S, label=MC_LABEL, color=MC_COLOR, event_norm=True, density=False)\n",
    "plt.xlabel('Track Z-Direction', fontsize=20)\n",
    "plt.ylabel('Counts/Trigger', fontsize=20)\n",
    "plt.title('Full Sample: Selection >= 0', fontsize=20)\n",
    "plt.legend(loc='lower center', fontsize=20)\n",
    "plt.grid()\n",
    "plt.show()"
   ]
  },
  {
   "cell_type": "code",
   "execution_count": null,
   "id": "23",
   "metadata": {},
   "outputs": [],
   "source": [
    "S = \"sel < 2\"\n",
    "bin_w = 0.1\n",
    "B = np.arange(-1, 1+bin_w, bin_w)\n",
    "plot_1D_error(data_df, \"dirz\", B, S, label=DATA_LABEL, color=DATA_COLOR, event_norm=True, density=False)\n",
    "plot_1D_error(mc_df, \"dirz\", B, S, label=MC_LABEL, color=MC_COLOR, event_norm=True, density=False)\n",
    "plt.xlabel('Track Z-Direction', fontsize=20)\n",
    "plt.ylabel('Counts/Trigger', fontsize=20)\n",
    "plt.title('Selection < 2', fontsize=20)\n",
    "plt.legend(loc='upper center', fontsize=20)\n",
    "plt.grid()\n",
    "plt.show()"
   ]
  },
  {
   "cell_type": "code",
   "execution_count": null,
   "id": "24",
   "metadata": {},
   "outputs": [],
   "source": [
    "S = \"sel >= 0\"\n",
    "bin_w = 0.1\n",
    "B = np.arange(-1, 1+bin_w, bin_w)\n",
    "plot_1D_error(data_df, \"diry\", B, S, label=DATA_LABEL, color=DATA_COLOR)\n",
    "plot_1D_error(mc_df, \"diry\", B, S, label=MC_LABEL, color=MC_COLOR)\n",
    "plt.xlabel('Track Y-Direction', fontsize=20)\n",
    "plt.ylabel('Area Normalized', fontsize=20)\n",
    "plt.title('Full Sample: Selection >= 0', fontsize=20)\n",
    "plt.legend(fontsize=20)\n",
    "plt.grid()\n",
    "plt.show()"
   ]
  },
  {
   "cell_type": "code",
   "execution_count": null,
   "id": "25",
   "metadata": {},
   "outputs": [],
   "source": [
    "S = \"sel == 0\"\n",
    "bin_w = 0.1\n",
    "B = np.arange(-1, 1+bin_w, bin_w)\n",
    "plot_1D_error(data_df, \"diry\", B, S, label=DATA_LABEL, color=DATA_COLOR)\n",
    "plot_1D_error(mc_df, \"diry\", B, S, label=MC_LABEL, color=MC_COLOR)\n",
    "plt.xlabel('Track Y-Direction', fontsize=20)\n",
    "plt.ylabel('Area Normalized', fontsize=20)\n",
    "plt.title('Stopping Muon Sample: Selection = 0', fontsize=20)\n",
    "plt.legend(loc='upper center', fontsize=20)\n",
    "plt.grid()\n",
    "plt.show()"
   ]
  },
  {
   "cell_type": "code",
   "execution_count": null,
   "id": "26",
   "metadata": {},
   "outputs": [],
   "source": [
    "S = \"sel == 1\"\n",
    "bin_w = 0.1\n",
    "B = np.arange(-1, 1+bin_w, bin_w)\n",
    "plot_1D_error(data_df, \"diry\", B, S, label=DATA_LABEL, color=DATA_COLOR)\n",
    "plot_1D_error(mc_df, \"diry\", B, S, label=MC_LABEL, color=MC_COLOR)\n",
    "plt.xlabel('Track Y-Direction', fontsize=20)\n",
    "plt.ylabel('Area Normalized', fontsize=20)\n",
    "plt.title('Anode-Cathode Crossers: Selection = 1', fontsize=20)\n",
    "plt.legend(loc='upper center', fontsize=20)\n",
    "plt.grid()\n",
    "plt.show()"
   ]
  },
  {
   "cell_type": "code",
   "execution_count": null,
   "id": "27",
   "metadata": {},
   "outputs": [],
   "source": [
    "S = \"sel == 2\"\n",
    "bin_w = 0.1\n",
    "B = np.arange(-1, 1+bin_w, bin_w)\n",
    "plot_1D_error(data_df, \"diry\", B, S, label=DATA_LABEL, color=DATA_COLOR)\n",
    "plot_1D_error(mc_df, \"diry\", B, S, label=MC_LABEL, color=MC_COLOR)\n",
    "plt.xlabel('Track Y-Direction', fontsize=20)\n",
    "plt.ylabel('Area Normalized', fontsize=20)\n",
    "plt.title('Other Cathode Crossers: Selection = 2', fontsize=20)\n",
    "plt.legend(loc='upper center', fontsize=20)\n",
    "plt.grid()\n",
    "plt.show()"
   ]
  },
  {
   "cell_type": "code",
   "execution_count": null,
   "id": "28",
   "metadata": {},
   "outputs": [],
   "source": [
    "S = \"sel == 0\"\n",
    "bin_w = 0.1\n",
    "B = np.arange(-1, 1+bin_w, bin_w)\n",
    "plot_1D_error(data_df, \"diry\", B, S, label=DATA_LABEL, color=DATA_COLOR, event_norm=True, density=False)\n",
    "plot_1D_error(mc_df, \"diry\", B, S, label=MC_LABEL, color=MC_COLOR, event_norm=True, density=False)\n",
    "plt.xlabel('Track Y-Direction', fontsize=20)\n",
    "plt.ylabel('Counts/Trigger', fontsize=20)\n",
    "plt.title('Stopping Muon Sample: Selection = 0', fontsize=20)\n",
    "plt.legend(loc='upper center', fontsize=20)\n",
    "plt.grid()\n",
    "plt.show()"
   ]
  },
  {
   "cell_type": "code",
   "execution_count": null,
   "id": "29",
   "metadata": {},
   "outputs": [],
   "source": [
    "S = \"sel == 1\"\n",
    "bin_w = 0.1\n",
    "B = np.arange(-1, 1+bin_w, bin_w)\n",
    "plot_1D_error(data_df, \"diry\", B, S, label=DATA_LABEL, color=DATA_COLOR, density=False, event_norm=True)\n",
    "plot_1D_error(mc_df, \"diry\", B, S, label=MC_LABEL, color=MC_COLOR, density=False, event_norm=True)\n",
    "plt.xlabel('Track Y-Direction', fontsize=20)\n",
    "plt.ylabel('Counts/Trigger', fontsize=20)\n",
    "plt.title('Anode-Cathode Crossers: Selection = 1', fontsize=20)\n",
    "plt.legend(loc='upper center', fontsize=20)\n",
    "plt.grid()\n",
    "plt.show()"
   ]
  },
  {
   "cell_type": "code",
   "execution_count": null,
   "id": "30",
   "metadata": {},
   "outputs": [],
   "source": [
    "S = \"sel == 2\"\n",
    "bin_w = 0.1\n",
    "B = np.arange(-1, 1+bin_w, bin_w)\n",
    "plot_1D_error(data_df, \"diry\", B, S, label=DATA_LABEL, color=DATA_COLOR, density=False, event_norm=True)\n",
    "plot_1D_error(mc_df, \"diry\", B, S, label=MC_LABEL, color=MC_COLOR, density=False, event_norm=True)\n",
    "plt.xlabel('Track Y-Direction', fontsize=20)\n",
    "plt.ylabel('Counts/Trigger', fontsize=20)\n",
    "plt.title('Other Cathode Crossers: Selection = 2', fontsize=20)\n",
    "plt.legend(loc='upper center', fontsize=20)\n",
    "plt.grid()\n",
    "plt.show()"
   ]
  },
  {
   "cell_type": "code",
   "execution_count": null,
   "id": "31",
   "metadata": {},
   "outputs": [],
   "source": [
    "S = \"sel >= 0\"\n",
    "bin_w = 0.1\n",
    "B = np.arange(-1, 1+bin_w, bin_w)\n",
    "plot_1D_error(data_df, \"diry\", B, S, label=DATA_LABEL, color=DATA_COLOR, event_norm=True, density=False)\n",
    "plot_1D_error(mc_df, \"diry\", B, S, label=MC_LABEL, color=MC_COLOR, event_norm=True, density=False)\n",
    "plt.xlabel('Track Y-Direction', fontsize=20)\n",
    "plt.ylabel('Counts/Trigger', fontsize=20)\n",
    "plt.title('Full Sample: Selection >= 0', fontsize=20)\n",
    "plt.legend(loc='upper center', fontsize=20)\n",
    "plt.grid()\n",
    "plt.show()"
   ]
  },
  {
   "cell_type": "code",
   "execution_count": null,
   "id": "32",
   "metadata": {},
   "outputs": [],
   "source": [
    "S = \"sel >= 0\"\n",
    "bin_w = 0.1\n",
    "B = np.arange(-1, 1+bin_w, bin_w)\n",
    "plot_1D_error(data_df, \"dirx\", B, S, label=DATA_LABEL, color=DATA_COLOR)\n",
    "plot_1D_error(mc_df, \"dirx\", B, S, label=MC_LABEL, color=MC_COLOR)\n",
    "plt.xlabel('Track X-Direction', fontsize=20)\n",
    "plt.ylabel('Area Normalized', fontsize=20)\n",
    "plt.title('Full Sample: Selection >= 0', fontsize=20)\n",
    "plt.legend(loc=\"lower center\", fontsize=20)\n",
    "plt.grid()\n",
    "plt.show()"
   ]
  },
  {
   "cell_type": "code",
   "execution_count": null,
   "id": "33",
   "metadata": {},
   "outputs": [],
   "source": [
    "S = \"sel == 0\"\n",
    "bin_w = 0.1\n",
    "B = np.arange(-1, 1+bin_w, bin_w)\n",
    "plot_1D_error(data_df, \"dirx\", B, S, label=DATA_LABEL, color=DATA_COLOR)\n",
    "plot_1D_error(mc_df, \"dirx\", B, S, label=MC_LABEL, color=MC_COLOR)\n",
    "plt.xlabel('Track X-Direction', fontsize=20)\n",
    "plt.ylabel('Area Normalized', fontsize=20)\n",
    "plt.title('Stopping Muon Sample: Selection = 0', fontsize=20)\n",
    "plt.legend(loc='lower center', fontsize=20)\n",
    "plt.grid()\n",
    "plt.show()"
   ]
  },
  {
   "cell_type": "code",
   "execution_count": null,
   "id": "34",
   "metadata": {},
   "outputs": [],
   "source": [
    "S = \"sel == 1\"\n",
    "bin_w = 0.1\n",
    "B = np.arange(-1, 1+bin_w, bin_w)\n",
    "plot_1D_error(data_df, \"dirx\", B, S, label=DATA_LABEL, color=DATA_COLOR)\n",
    "plot_1D_error(mc_df, \"dirx\", B, S, label=MC_LABEL, color=MC_COLOR)\n",
    "plt.xlabel('Track X-Direction', fontsize=20)\n",
    "plt.ylabel('Area Normalized', fontsize=20)\n",
    "plt.title('Anode-Cathode Crossers: Selection = 1', fontsize=20)\n",
    "plt.legend(loc='upper center', fontsize=20)\n",
    "plt.grid()\n",
    "plt.show()"
   ]
  },
  {
   "cell_type": "code",
   "execution_count": null,
   "id": "35",
   "metadata": {},
   "outputs": [],
   "source": [
    "S = \"sel == 2\"\n",
    "bin_w = 0.1\n",
    "B = np.arange(-1, 1+bin_w, bin_w)\n",
    "plot_1D_error(data_df, \"dirx\", B, S, label=DATA_LABEL, color=DATA_COLOR)\n",
    "plot_1D_error(mc_df, \"dirx\", B, S, label=MC_LABEL, color=MC_COLOR)\n",
    "plt.xlabel('Track X-Direction', fontsize=20)\n",
    "plt.ylabel('Area Normalized', fontsize=20)\n",
    "plt.title('Other Cathode Crossers: Selection = 2', fontsize=20)\n",
    "plt.legend(loc='lower center', fontsize=20)\n",
    "plt.grid()\n",
    "plt.show()"
   ]
  },
  {
   "cell_type": "code",
   "execution_count": null,
   "id": "36",
   "metadata": {},
   "outputs": [],
   "source": [
    "S = \"sel == 2\"\n",
    "bin_w = 0.1\n",
    "B = np.arange(-1, 1+bin_w, bin_w)\n",
    "\n",
    "S = \"sel == 0\"\n",
    "plot_1D_error(data_df, \"dirx\", B, S, label=DATA_LABEL+\": Sel = 0\", color=\"blue\", density=False, event_norm=True)\n",
    "S = \"sel == 1\"\n",
    "plot_1D_error(data_df, \"dirx\", B, S, label=DATA_LABEL+\": Sel = 1\", color=\"orange\", density=False , event_norm=True)\n",
    "S = \"sel == 2\"\n",
    "plot_1D_error(data_df, \"dirx\", B, S, label=DATA_LABEL+\": Sel = 2\", color=\"red\", density=False, event_norm=True)\n",
    "\n",
    "plt.xlabel('Track X-Direction', fontsize=20)\n",
    "plt.ylabel('Counts/Trigger', fontsize=20)\n",
    "plt.title('Data Categories', fontsize=20)\n",
    "plt.legend(loc='upper right', fontsize=14)\n",
    "plt.ylim([0, 0.25])\n",
    "plt.grid()\n",
    "plt.show()"
   ]
  },
  {
   "cell_type": "code",
   "execution_count": null,
   "id": "37",
   "metadata": {},
   "outputs": [],
   "source": [
    "S = \"sel == 2\"\n",
    "bin_w = 0.1\n",
    "B = np.arange(-1, 1+bin_w, bin_w)\n",
    "\n",
    "S = \"sel == 0\"\n",
    "plot_1D_error(mc_df, \"dirx\", B, S, label=MC_LABEL+\": Sel = 0\", color=\"blue\", density=False, event_norm=True)\n",
    "S = \"sel == 1\"\n",
    "plot_1D_error(mc_df, \"dirx\", B, S, label=MC_LABEL+\": Sel = 1\", color=\"orange\", density=False , event_norm=True)\n",
    "S = \"sel == 2\"\n",
    "plot_1D_error(mc_df, \"dirx\", B, S, label=MC_LABEL+\": Sel = 2\", color=\"red\", density=False, event_norm=True)\n",
    "\n",
    "plt.xlabel('Track X-Direction', fontsize=20)\n",
    "plt.ylabel('Counts/Trigger', fontsize=20)\n",
    "plt.title('MC Categories', fontsize=20)\n",
    "plt.legend(loc='upper right', fontsize=14)\n",
    "plt.ylim([0, 0.25])\n",
    "plt.grid()\n",
    "plt.show()"
   ]
  },
  {
   "cell_type": "code",
   "execution_count": null,
   "id": "38",
   "metadata": {},
   "outputs": [],
   "source": [
    "S = \"sel == 2\"\n",
    "bin_w = 0.1\n",
    "B = np.arange(-1, 1+bin_w, bin_w)\n",
    "\n",
    "\n",
    "plt.hist2d(data_df.query(S)['dirx'].values, data_df.query(S)['diry'].values, bins=(B, B), \n",
    "           density=True, norm=LogNorm(vmin=10**-3, vmax=10), cmap='viridis')\n",
    "plt.colorbar(label='Normalized')\n",
    "plt.xlabel('Track X-Direction', fontsize=20)\n",
    "plt.ylabel('Track Y-Direction', fontsize=20)\n",
    "plt.title('Data: Selection = 2', fontsize=20)\n",
    "plt.grid()\n",
    "plt.show() "
   ]
  },
  {
   "cell_type": "code",
   "execution_count": null,
   "id": "39",
   "metadata": {},
   "outputs": [],
   "source": [
    "S = \"sel == 2\"\n",
    "bin_w = 0.1\n",
    "B = np.arange(-1, 1+bin_w, bin_w)\n",
    "\n",
    "\n",
    "plt.hist2d(mc_df.query(S)['dirx'].values, mc_df.query(S)['diry'].values, bins=(B, B), \n",
    "           density=True, norm=LogNorm(vmin=10**-3, vmax=10), cmap='viridis')\n",
    "plt.colorbar(label='Normalized')\n",
    "plt.xlabel('Track X-Direction', fontsize=20)\n",
    "plt.ylabel('Track Y-Direction', fontsize=20)\n",
    "plt.title('MC: Selection = 2', fontsize=20)\n",
    "plt.grid()\n",
    "plt.show() "
   ]
  },
  {
   "cell_type": "markdown",
   "id": "40",
   "metadata": {},
   "source": [
    "# Residual Range"
   ]
  },
  {
   "cell_type": "code",
   "execution_count": null,
   "id": "41",
   "metadata": {},
   "outputs": [],
   "source": [
    "S = \"sel >= 0 and rr > 60\"\n",
    "bin_w = 0.1\n",
    "B = np.arange(-1, 1+bin_w, bin_w)\n",
    "plot_1D_error(data_df, \"dirz\", B, S, label=DATA_LABEL, color=DATA_COLOR)\n",
    "plot_1D_error(mc_df, \"dirz\", B, S, label=MC_LABEL, color=MC_COLOR)\n",
    "plt.xlabel('Track Z-Direction', fontsize=20)\n",
    "plt.ylabel('Area Normalized', fontsize=20)\n",
    "plt.title('Full Sample: Selection >= 0', fontsize=20)\n",
    "plt.legend(fontsize=20)\n",
    "plt.grid()\n",
    "plt.show()"
   ]
  },
  {
   "cell_type": "code",
   "execution_count": null,
   "id": "42",
   "metadata": {},
   "outputs": [],
   "source": [
    "S = \"sel >= 0 and rr > 60\"\n",
    "bin_w = 0.1\n",
    "B = np.arange(-1, 1+bin_w, bin_w)\n",
    "plot_1D_error(data_df, \"diry\", B, S, label=DATA_LABEL, color=DATA_COLOR)\n",
    "plot_1D_error(mc_df, \"diry\", B, S, label=MC_LABEL, color=MC_COLOR)\n",
    "plt.xlabel('Track Y-Direction', fontsize=20)\n",
    "plt.ylabel('Area Normalized', fontsize=20)\n",
    "plt.title('Full Sample: Selection >= 0', fontsize=20)\n",
    "plt.legend(fontsize=20)\n",
    "plt.grid()\n",
    "plt.show()"
   ]
  },
  {
   "cell_type": "code",
   "execution_count": null,
   "id": "43",
   "metadata": {},
   "outputs": [],
   "source": [
    "S = \"sel >= 0 and rr > 60\"\n",
    "bin_w = 0.1\n",
    "B = np.arange(-1, 1+bin_w, bin_w)\n",
    "plot_1D_error(data_df, \"dirx\", B, S, label=DATA_LABEL, color=DATA_COLOR)\n",
    "plot_1D_error(mc_df, \"dirx\", B, S, label=MC_LABEL, color=MC_COLOR)\n",
    "plt.xlabel('Track X-Direction', fontsize=20)\n",
    "plt.ylabel('Area Normalized', fontsize=20)\n",
    "plt.ylim([0, 0.12])\n",
    "plt.title('Full Sample: Selection >= 0', fontsize=20)\n",
    "plt.legend(fontsize=20)\n",
    "plt.grid()\n",
    "plt.show()"
   ]
  },
  {
   "cell_type": "code",
   "execution_count": null,
   "id": "44",
   "metadata": {},
   "outputs": [],
   "source": [
    "S = \"sel == 1 and rr > 60\"\n",
    "bin_w = 0.1\n",
    "B = np.arange(-1, 1+bin_w, bin_w)\n",
    "plot_1D_error(data_df, \"dirx\", B, S, label=DATA_LABEL, color=DATA_COLOR)\n",
    "plot_1D_error(mc_df, \"dirx\", B, S, label=MC_LABEL, color=MC_COLOR)\n",
    "plt.xlabel('Track X-Direction', fontsize=20)\n",
    "plt.ylabel('Area Normalized', fontsize=20)\n",
    "#plt.ylim([0, 0.12])\n",
    "plt.title('Selection = 1', fontsize=20)\n",
    "plt.legend(fontsize=20)\n",
    "plt.grid()\n",
    "plt.show()"
   ]
  },
  {
   "cell_type": "code",
   "execution_count": null,
   "id": "45",
   "metadata": {},
   "outputs": [],
   "source": [
    "S = \"sel == 2 and rr > 60\"\n",
    "bin_w = 0.1\n",
    "B = np.arange(-1, 1+bin_w, bin_w)\n",
    "plot_1D_error(data_df, \"dirx\", B, S, label=DATA_LABEL, color=DATA_COLOR)\n",
    "plot_1D_error(mc_df, \"dirx\", B, S, label=MC_LABEL, color=MC_COLOR)\n",
    "plt.xlabel('Track X-Direction', fontsize=20)\n",
    "plt.ylabel('Area Normalized', fontsize=20)\n",
    "#plt.ylim([0, 0.12])\n",
    "plt.title('Selection = 2', fontsize=20)\n",
    "plt.legend(fontsize=20)\n",
    "plt.grid()\n",
    "plt.show()"
   ]
  },
  {
   "cell_type": "code",
   "execution_count": null,
   "id": "46",
   "metadata": {},
   "outputs": [],
   "source": [
    "S = \"sel == 0 and rr > 60\"\n",
    "bin_w = 0.1\n",
    "B = np.arange(-1, 1+bin_w, bin_w)\n",
    "plot_1D_error(data_df, \"dirx\", B, S, label=DATA_LABEL, color=DATA_COLOR)\n",
    "plot_1D_error(mc_df, \"dirx\", B, S, label=MC_LABEL, color=MC_COLOR)\n",
    "plt.xlabel('Track X-Direction', fontsize=20)\n",
    "plt.ylabel('Area Normalized', fontsize=20)\n",
    "#plt.ylim([0, 0.12])\n",
    "plt.title('Selection = 0', fontsize=20)\n",
    "plt.legend(fontsize=20)\n",
    "plt.grid()\n",
    "plt.show()"
   ]
  },
  {
   "cell_type": "markdown",
   "id": "47",
   "metadata": {},
   "source": [
    "## Track z-Direction"
   ]
  },
  {
   "cell_type": "code",
   "execution_count": null,
   "id": "48",
   "metadata": {},
   "outputs": [],
   "source": [
    "S = \"sel >= 0\"\n",
    "bin_w = 0.1\n",
    "B = np.arange(-1, 1+bin_w, bin_w)\n",
    "\n",
    "\n",
    "plt.hist(mc_df.query(S)['dirz'].values, bins=B, histtype='step', linewidth=2, label='MC', density=True)\n",
    "plt.hist(data_df.query(S)['dirz'].values, bins=B, histtype='step', linewidth=2, label='Data', density=True)\n",
    "\n",
    "plt.xlabel('Track Z-Direction', fontsize=20)\n",
    "plt.ylabel('Area Normalized Counts', fontsize=20)\n",
    "plt.title('Full Sample: Selection >= 0', fontsize=20)\n",
    "plt.legend()\n",
    "plt.grid()\n",
    "plt.show()"
   ]
  },
  {
   "cell_type": "code",
   "execution_count": null,
   "id": "49",
   "metadata": {},
   "outputs": [],
   "source": [
    "\n",
    "\n",
    "S = \"sel == 0\"\n",
    "bin_w = 0.1\n",
    "B = np.arange(-1, 1+bin_w, bin_w)\n",
    "\n",
    "\n",
    "plt.hist(mc_df.query(S)['dirz'].values, bins=B, histtype='step', linewidth=2, label='MC', density=True)\n",
    "plt.hist(data_df.query(S)['dirz'].values, bins=B, histtype='step', linewidth=2, label='Data', density=True)\n",
    "\n",
    "plt.xlabel('Track Z-Direction', fontsize=20)\n",
    "plt.ylabel('Area Normalized Counts', fontsize=20)\n",
    "plt.title('Stopping Muon Sample: Selection = 0', fontsize=20)\n",
    "plt.legend()\n",
    "plt.grid()\n",
    "plt.show()"
   ]
  },
  {
   "cell_type": "code",
   "execution_count": null,
   "id": "50",
   "metadata": {},
   "outputs": [],
   "source": [
    "S = \"sel == 1\"\n",
    "bin_w = 0.1\n",
    "B = np.arange(-1, 1+bin_w, bin_w)\n",
    "\n",
    "\n",
    "plt.hist(mc_df.query(S)['dirz'].values, bins=B, histtype='step', linewidth=2, label='MC', density=True)\n",
    "plt.hist(data_df.query(S)['dirz'].values, bins=B, histtype='step', linewidth=2, label='Data', density=True)\n",
    "\n",
    "plt.xlabel('Track Z-Direction', fontsize=20)\n",
    "plt.ylabel('Area Normalized Counts', fontsize=20)\n",
    "plt.title('Anode-Cathode Crossers: Selection = 1', fontsize=20)\n",
    "plt.legend()\n",
    "plt.grid()\n",
    "plt.show()"
   ]
  },
  {
   "cell_type": "code",
   "execution_count": null,
   "id": "51",
   "metadata": {},
   "outputs": [],
   "source": [
    "S = \"sel == 2\"\n",
    "bin_w = 0.1\n",
    "B = np.arange(-1, 1+bin_w, bin_w)\n",
    "\n",
    "\n",
    "plt.hist(mc_df.query(S)['dirz'].values, bins=B, histtype='step', linewidth=2, label='MC', density=True)\n",
    "plt.hist(data_df.query(S)['dirz'].values, bins=B, histtype='step', linewidth=2, label='Data', density=True)\n",
    "\n",
    "plt.xlabel('Track Z-Direction', fontsize=20)\n",
    "plt.ylabel('Area Normalized Counts', fontsize=20)\n",
    "plt.title('Other Cathode Crossers: Selection = 2', fontsize=20)\n",
    "plt.legend()\n",
    "plt.grid()\n",
    "plt.show()"
   ]
  },
  {
   "cell_type": "code",
   "execution_count": null,
   "id": "52",
   "metadata": {},
   "outputs": [],
   "source": [
    "plt.hist2d(data_df['dirz'].values, data_df['rr'].values, bins=(100, 100), range=[[-1, 1], [0, 1000]], norm=LogNorm(), cmap='viridis')\n",
    "plt.colorbar(label='Counts')\n",
    "plt.xlabel('dirz')\n",
    "plt.ylabel('rr')\n",
    "plt.title('2D Histogram of dirz vs rr for Data')\n",
    "plt.grid()\n",
    "plt.show()  "
   ]
  },
  {
   "cell_type": "code",
   "execution_count": null,
   "id": "53",
   "metadata": {},
   "outputs": [],
   "source": [
    "plt.hist2d(mc_df['dirz'].values, mc_df['rr'].values, bins=(100, 100), range=[[-1, 1], [0, 1000]], norm=LogNorm(), cmap='viridis')\n",
    "plt.colorbar(label='Counts')\n",
    "plt.xlabel('dirz')\n",
    "plt.ylabel('rr')\n",
    "plt.title('2D Histogram of dirz vs rr for MC')\n",
    "plt.grid()\n",
    "plt.show()"
   ]
  },
  {
   "cell_type": "code",
   "execution_count": null,
   "id": "54",
   "metadata": {},
   "outputs": [],
   "source": [
    "B = np.arange(0, 1000, 10)\n",
    "plt.hist(mc_df.query('0.6 < abs(dirz) < 0.9')['rr'].values, bins=B, histtype='step', alpha=0.5, label='MC', density=True)\n",
    "plt.hist(data_df.query('0.6 < abs(dirz) < 0.9')['rr'].values, bins=B, histtype='step', alpha=0.5, label='Data', density=True)\n",
    "plt.hist(c_df.query('0.6 < abs(dirz) > 0.9')['rr'].values, bins=B, histtype='step', alpha=0.5, label='Corsika', density=True)\n",
    "plt.xlabel('rr')\n",
    "plt.ylabel('Density')\n",
    "#plt.yscale('log')\n",
    "plt.xlim([0, 100])\n",
    "plt.title('Comparison of rr Distributions')\n",
    "plt.legend()\n",
    "plt.grid()\n",
    "plt.show()"
   ]
  },
  {
   "cell_type": "code",
   "execution_count": null,
   "id": "55",
   "metadata": {},
   "outputs": [],
   "source": [
    "plt.hist(mc_df.query('rr > 60')['dirz'].values, bins=100, range=(-1, 1), histtype='step', alpha=0.5, label='MC dirz', density=True)\n",
    "plt.hist(data_df.query('rr > 60')['dirz'].values, bins=100, range=(-1, 1), histtype='step', alpha=0.5, label='Data dirz', density=True)\n",
    "plt.hist(c_df.query('rr > 60')['dirz'].values, bins=100, range=(-1, 1), histtype='step', alpha=0.5, label='Corsika dirz', density=True)\n",
    "plt.xlabel('dirz')\n",
    "plt.ylabel('Density')\n",
    "plt.title('Comparison of dirz Distributions')\n",
    "plt.legend()\n",
    "plt.grid()\n",
    "plt.show()"
   ]
  },
  {
   "cell_type": "code",
   "execution_count": null,
   "id": "56",
   "metadata": {},
   "outputs": [],
   "source": [
    "def get_Norm(df):\n",
    "\n",
    "    runs = df[\"run\"].values\n",
    "    subruns = df[\"subrun\"].values\n",
    "    evts = df[\"evt\"].values\n",
    "\t\t\n",
    "    data = {'run': runs,\n",
    "\t\t'subrun': subruns,\n",
    "\t\t'evt': evts}\n",
    "\t\t\n",
    "    event_df = pd.DataFrame(data)\n",
    "    event_df = event_df.drop_duplicates()\n",
    "\n",
    "    N = event_df.shape[0]\n",
    "    return N\n",
    "\n",
    "\n",
    "N_data = get_Norm(data_df)\n",
    "N_mc = get_Norm(mc_df)\n",
    "N_c = get_Norm(c_df)\n",
    "\n",
    "print(f\"Number of events in Data: {N_data}\")\n",
    "print(f\"Number of events in MC: {N_mc}\")\n",
    "print(f\"Number of events in Corsika: {N_c}\")"
   ]
  },
  {
   "cell_type": "code",
   "execution_count": null,
   "id": "57",
   "metadata": {},
   "outputs": [],
   "source": [
    "w = 0.2\n",
    "B = np.arange(-1, 1+w, w)\n",
    "tcut = 0\n",
    "\n",
    "h_data, edges_data = np.histogram(data_df.query('rr > @tcut')['dirz'].values, bins=B)\n",
    "h_mc, edges_mc = np.histogram(mc_df.query('rr > @tcut')['dirz'].values, bins=B)\n",
    "h_c, edges_c = np.histogram(c_df.query('rr > @tcut')['dirz'].values, bins=B)\n",
    "\n",
    "h_data = (h_data / N_data)\n",
    "h_mc = (h_mc / N_mc)\n",
    "h_c = (h_c / N_c)\n",
    "\n",
    "\n",
    "plt.errorbar(edges_data[:-1] + w/2, h_data, yerr=np.sqrt(h_data)/N_data, fmt='o', label='Data')\n",
    "plt.errorbar(edges_mc[:-1] + w/2, h_mc, yerr=np.sqrt(h_mc)/N_mc, fmt='o', label='MC')\n",
    "plt.errorbar(edges_c[:-1] + w/2, h_c, yerr=np.sqrt(h_c)/N_c, fmt='o', label='Corsika')\n",
    "plt.errorbar(edges_mc[:-1] + w/2, h_mc*1.85, yerr=np.sqrt(h_mc)/N_mc, fmt='o', label='MCx1.85')\n",
    "plt.xlabel('dirz')\n",
    "plt.ylabel('Counts')\n",
    "plt.title('Comparison of dirz Distributions')\n",
    "plt.legend()\n",
    "plt.grid()\n",
    "plt.show()\n"
   ]
  }
 ],
 "metadata": {
  "kernelspec": {
   "display_name": "Python 3",
   "language": "python",
   "name": "python3"
  },
  "language_info": {
   "codemirror_mode": {
    "name": "ipython",
    "version": 3
   },
   "file_extension": ".py",
   "mimetype": "text/x-python",
   "name": "python",
   "nbconvert_exporter": "python",
   "pygments_lexer": "ipython3",
   "version": "3.9.6"
  }
 },
 "nbformat": 4,
 "nbformat_minor": 5
}
